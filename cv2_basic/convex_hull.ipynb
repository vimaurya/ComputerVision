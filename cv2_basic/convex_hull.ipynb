{
 "cells": [
  {
   "cell_type": "code",
   "execution_count": 6,
   "metadata": {
    "collapsed": true,
    "ExecuteTime": {
     "end_time": "2024-07-14T14:33:48.100453800Z",
     "start_time": "2024-07-14T14:33:41.308890700Z"
    }
   },
   "outputs": [],
   "source": [
    "import cv2 as cv\n",
    "\n",
    "frame = cv.imread('../data/kobe.jpg')\n",
    "gray = cv.cvtColor(frame, cv.COLOR_BGR2GRAY)\n",
    "\n",
    "ret, thresh = cv.threshold(gray, 127, 255, cv.THRESH_BINARY)\n",
    "\n",
    "cv.imshow('thresh', thresh)\n",
    "cv.waitKey(0)\n",
    "cv.destroyAllWindows()\n",
    "contours, hierarchy = cv.findContours(thresh, cv.RETR_TREE, cv.CHAIN_APPROX_SIMPLE)\n",
    "\n",
    "for contour in contours:\n",
    "    hull = cv.convexHull(contour)\n",
    "\n",
    "    cv.drawContours(frame, [hull], -1, (0, 255, 0), 2)\n",
    "\n",
    "cv.imshow('Convex Hull', frame)\n",
    "cv.waitKey(0)\n",
    "cv.destroyAllWindows()\n"
   ]
  },
  {
   "cell_type": "code",
   "execution_count": 4,
   "outputs": [],
   "source": [
    "import cv2 as cv\n",
    "\n",
    "cam = cv.VideoCapture(0)\n",
    "\n",
    "while True:\n",
    "\n",
    "    ret, frame = cam.read()\n",
    "\n",
    "    gray = cv.cvtColor(frame, cv.COLOR_BGR2GRAY)\n",
    "    blurred = cv.GaussianBlur(gray, (5, 5), 0)\n",
    "\n",
    "    _, thresh = cv.threshold(blurred, 60, 255, cv.THRESH_BINARY_INV)\n",
    "\n",
    "    contours, _ = cv.findContours(thresh, cv.RETR_TREE, cv.CHAIN_APPROX_SIMPLE)\n",
    "\n",
    "    contour = max(contours, key=cv.contourArea)\n",
    "\n",
    "    hull = cv.convexHull(contour)\n",
    "    hull_indices = cv.convexHull(contour, returnPoints=False)\n",
    "    defects = cv.convexityDefects(contour, hull_indices)\n",
    "\n",
    "    cv.drawContours(frame, [contour], -1, (0, 255, 0), 2)\n",
    "    cv.drawContours(frame, [hull], -1, (255, 0, 0), 2)\n",
    "\n",
    "    if defects is not None:\n",
    "        for i in range(defects.shape[0]):\n",
    "            start_idx, end_idx, far_idx, _ = defects[i, 0]\n",
    "            start = tuple(contour[start_idx][0])\n",
    "            end = tuple(contour[end_idx][0])\n",
    "            far = tuple(contour[far_idx][0])\n",
    "            cv.circle(frame, far, 5, (0, 0, 255), -1)\n",
    "\n",
    "    cv.imshow('Hand Gesture', frame)\n",
    "    if cv.waitKey(10) & 0xFF == ord('q'):\n",
    "        break\n",
    "\n",
    "cam.release()\n",
    "cv.destroyAllWindows()"
   ],
   "metadata": {
    "collapsed": false,
    "ExecuteTime": {
     "end_time": "2024-07-14T14:59:53.086532100Z",
     "start_time": "2024-07-14T14:59:21.450479500Z"
    }
   }
  }
 ],
 "metadata": {
  "kernelspec": {
   "display_name": "Python 3",
   "language": "python",
   "name": "python3"
  },
  "language_info": {
   "codemirror_mode": {
    "name": "ipython",
    "version": 2
   },
   "file_extension": ".py",
   "mimetype": "text/x-python",
   "name": "python",
   "nbconvert_exporter": "python",
   "pygments_lexer": "ipython2",
   "version": "2.7.6"
  }
 },
 "nbformat": 4,
 "nbformat_minor": 0
}
