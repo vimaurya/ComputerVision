{
 "cells": [
  {
   "cell_type": "code",
   "execution_count": 9,
   "metadata": {
    "collapsed": true,
    "ExecuteTime": {
     "end_time": "2024-07-15T07:02:37.368492Z",
     "start_time": "2024-07-15T07:02:28.741731400Z"
    }
   },
   "outputs": [],
   "source": [
    "import cv2\n",
    "import numpy as np\n",
    "\n",
    "# Load an image\n",
    "image = cv2.imread('../data/kobe.jpg', cv2.IMREAD_GRAYSCALE)\n",
    "_, thresh = cv2.threshold(image, 127, 255, cv2.THRESH_BINARY)\n",
    "\n",
    "cv2.imshow('original', image)\n",
    "cv2.waitKey(0)\n",
    "cv2.destroyAllWindows()\n",
    "\n",
    "contours, _ = cv2.findContours(thresh, cv2.RETR_TREE, cv2.CHAIN_APPROX_SIMPLE)\n",
    "contour = max(contours, key=cv2.contourArea)\n",
    "\n",
    "moments = cv2.moments(contour)\n",
    "\n",
    "cx = int(moments['m10'] / moments['m00'])\n",
    "cy = int(moments['m01'] / moments['m00'])\n",
    "\n",
    "cv2.circle(image, (cx, cy), 5, (0, 255, 0), -1)\n",
    "\n",
    "cv2.imshow('Centroid', image)\n",
    "cv2.waitKey(0)\n",
    "cv2.destroyAllWindows()\n"
   ]
  },
  {
   "cell_type": "code",
   "execution_count": 10,
   "outputs": [
    {
     "name": "stdout",
     "output_type": "stream",
     "text": [
      "Spatial Moments: {'m00': 163.0, 'm10': 35398.5, 'm01': 82272.33333333333, 'm20': 7689930.666666666, 'm11': 17865826.583333332, 'm02': 41528866.83333333, 'm30': 1671087330.65, 'm21': 3880904891.15, 'm12': 9017612618.55, 'm03': 20964102889.7, 'mu20': 2484.02709611319, 'mu11': -1150.051635991782, 'mu02': 2873.998295843601, 'mu30': -3910.885726928711, 'mu21': 2321.1343635441735, 'mu12': 3061.883396669873, 'mu03': -5552.994480133057, 'nu20': 0.09349343581290942, 'nu11': -0.043285469381300845, 'nu02': 0.10817111279474581, 'nu30': -0.011529384298715278, 'nu21': 0.006842759404087925, 'nu12': 0.009026505201875496, 'nu03': -0.016370360025931206}\n",
      "Hu Moments: [[ 2.01664549e-01]\n",
      " [ 7.70996164e-03]\n",
      " [ 2.85215666e-03]\n",
      " [ 9.70395774e-05]\n",
      " [-4.04738692e-10]\n",
      " [-2.88839430e-06]\n",
      " [ 5.10500749e-08]]\n"
     ]
    }
   ],
   "source": [
    "import cv2\n",
    "\n",
    "image = cv2.imread('../data/kobe.jpg', cv2.IMREAD_GRAYSCALE)\n",
    "_, thresh = cv2.threshold(image, 127, 255, cv2.THRESH_BINARY)\n",
    "\n",
    "contours, _ = cv2.findContours(thresh, cv2.RETR_TREE, cv2.CHAIN_APPROX_SIMPLE)\n",
    "contour = contours[0]\n",
    "\n",
    "moments = cv2.moments(contour)\n",
    "\n",
    "print(f\"Spatial Moments: {moments}\")\n",
    "\n",
    "hu_moments = cv2.HuMoments(moments)\n",
    "\n",
    "print(f\"Hu Moments: {hu_moments}\")\n"
   ],
   "metadata": {
    "collapsed": false,
    "ExecuteTime": {
     "end_time": "2024-07-15T07:12:25.463835100Z",
     "start_time": "2024-07-15T07:12:25.406714600Z"
    }
   }
  }
 ],
 "metadata": {
  "kernelspec": {
   "display_name": "Python 3",
   "language": "python",
   "name": "python3"
  },
  "language_info": {
   "codemirror_mode": {
    "name": "ipython",
    "version": 2
   },
   "file_extension": ".py",
   "mimetype": "text/x-python",
   "name": "python",
   "nbconvert_exporter": "python",
   "pygments_lexer": "ipython2",
   "version": "2.7.6"
  }
 },
 "nbformat": 4,
 "nbformat_minor": 0
}
