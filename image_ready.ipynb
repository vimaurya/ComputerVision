{
 "cells": [
  {
   "cell_type": "code",
   "execution_count": 2,
   "metadata": {
    "collapsed": true,
    "ExecuteTime": {
     "end_time": "2024-06-19T06:30:34.499914500Z",
     "start_time": "2024-06-19T06:30:34.491877400Z"
    }
   },
   "outputs": [],
   "source": [
    "import os\n",
    "from PIL import Image\n",
    "\n",
    "def resize_and_convert_images(input_folder, output_folder, size=(512, 512)):\n",
    "\n",
    "    for filename in os.listdir(input_folder):\n",
    "        if filename.lower().endswith(('png', 'jpg', 'jpeg', 'bmp', 'tiff', 'gif')):\n",
    "            try:\n",
    "                img_path = os.path.join(input_folder, filename)\n",
    "                with Image.open(img_path) as img:\n",
    "\n",
    "                    img = img.resize(size, Image.ANTIALIAS)\n",
    "\n",
    "                    output_file_path = os.path.join(output_folder, os.path.splitext(filename)[0] + '.webp')\n",
    "\n",
    "                    img.save(output_file_path, 'webp')\n",
    "                print(f\"Processed and saved: {output_file_path}\")\n",
    "            except Exception as e:\n",
    "                print(f\"Error processing {filename}: {e}\")\n"
   ]
  },
  {
   "cell_type": "code",
   "execution_count": 4,
   "outputs": [
    {
     "name": "stdout",
     "output_type": "stream",
     "text": [
      "exists\n"
     ]
    }
   ],
   "source": [
    "input_folder = 'C://users/vikash maurya/downloads/delete_later/e'\n",
    "output_folder = 'C://users/vikash maurya/downloads/delete_later/e'\n",
    "\n",
    "if os.path.exists(input_folder):\n",
    "    print(\"exists\")"
   ],
   "metadata": {
    "collapsed": false,
    "ExecuteTime": {
     "end_time": "2024-06-19T06:33:32.183344300Z",
     "start_time": "2024-06-19T06:33:32.159330400Z"
    }
   }
  },
  {
   "cell_type": "code",
   "execution_count": 9,
   "outputs": [
    {
     "name": "stderr",
     "output_type": "stream",
     "text": [
      "C:\\Users\\Vikash maurya\\AppData\\Local\\Temp\\ipykernel_11124\\3939227643.py:12: DeprecationWarning: ANTIALIAS is deprecated and will be removed in Pillow 10 (2023-07-01). Use LANCZOS or Resampling.LANCZOS instead.\n",
      "  img = img.resize(size, Image.ANTIALIAS)\n"
     ]
    },
    {
     "name": "stdout",
     "output_type": "stream",
     "text": [
      "Processed and saved: C://users/vikash maurya/downloads/delete_later/e\\1e.webp\n",
      "Processed and saved: C://users/vikash maurya/downloads/delete_later/e\\2e.webp\n",
      "Processed and saved: C://users/vikash maurya/downloads/delete_later/e\\3e.webp\n",
      "Processed and saved: C://users/vikash maurya/downloads/delete_later/e\\4e.webp\n",
      "Processed and saved: C://users/vikash maurya/downloads/delete_later/e\\5e.webp\n"
     ]
    }
   ],
   "source": [
    "\n",
    "resize_and_convert_images(input_folder, output_folder)"
   ],
   "metadata": {
    "collapsed": false,
    "ExecuteTime": {
     "end_time": "2024-06-19T07:00:26.611937Z",
     "start_time": "2024-06-19T07:00:26.251727300Z"
    }
   }
  }
 ],
 "metadata": {
  "kernelspec": {
   "display_name": "Python 3",
   "language": "python",
   "name": "python3"
  },
  "language_info": {
   "codemirror_mode": {
    "name": "ipython",
    "version": 2
   },
   "file_extension": ".py",
   "mimetype": "text/x-python",
   "name": "python",
   "nbconvert_exporter": "python",
   "pygments_lexer": "ipython2",
   "version": "2.7.6"
  }
 },
 "nbformat": 4,
 "nbformat_minor": 0
}
