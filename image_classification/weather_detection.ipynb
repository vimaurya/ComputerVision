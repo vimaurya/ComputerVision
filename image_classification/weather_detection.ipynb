{
 "cells": [
  {
   "cell_type": "code",
   "execution_count": 96,
   "metadata": {
    "collapsed": true,
    "ExecuteTime": {
     "end_time": "2024-06-11T06:18:04.581505100Z",
     "start_time": "2024-06-11T06:18:04.444815400Z"
    }
   },
   "outputs": [],
   "source": [
    "from torch.utils.data import DataLoader\n",
    "from torchvision import datasets, transforms\n",
    "import torch\n",
    "from torch import nn\n",
    "\n",
    "\n",
    "device = 'cuda' if torch.cuda.is_available() else 'cpu'"
   ]
  },
  {
   "cell_type": "code",
   "execution_count": 97,
   "outputs": [],
   "source": [
    "transform = transforms.Compose([\n",
    "    transforms.Resize((64, 64)),\n",
    "    transforms.ToTensor()\n",
    "])\n",
    "\n",
    "\n",
    "train_data_path = \"C:\\\\large_files\\\\data_weather\\\\train\"\n",
    "test_data_path = \"C:\\\\large_files\\\\data_weather\\\\val\"\n",
    "\n",
    "BATCH_SIZE = 16\n",
    "train_dataset = datasets.ImageFolder(root=train_data_path, transform=transform)\n",
    "\n",
    "test_dataset = datasets.ImageFolder(root=test_data_path, transform=transform)\n",
    "\n",
    "train_dataloader = DataLoader(dataset=train_dataset, batch_size=BATCH_SIZE, shuffle=True)\n",
    "\n",
    "test_dataloader = DataLoader(dataset=test_dataset, batch_size=BATCH_SIZE)"
   ],
   "metadata": {
    "collapsed": false,
    "ExecuteTime": {
     "end_time": "2024-06-11T06:18:04.584526900Z",
     "start_time": "2024-06-11T06:18:04.468109100Z"
    }
   }
  },
  {
   "cell_type": "code",
   "execution_count": 98,
   "outputs": [
    {
     "data": {
      "text/plain": "{0: 'cloudy', 1: 'rainy', 2: 'shiny', 3: 'sunrise'}"
     },
     "execution_count": 98,
     "metadata": {},
     "output_type": "execute_result"
    }
   ],
   "source": [
    "classes = train_dataset.classes\n",
    "\n",
    "class_idx = {}\n",
    "\n",
    "for i in range(4):\n",
    "    class_idx[i] = classes[i]\n",
    "\n",
    "class_idx"
   ],
   "metadata": {
    "collapsed": false,
    "ExecuteTime": {
     "end_time": "2024-06-11T06:18:04.587522500Z",
     "start_time": "2024-06-11T06:18:04.514784500Z"
    }
   }
  },
  {
   "cell_type": "code",
   "execution_count": 99,
   "outputs": [
    {
     "data": {
      "text/plain": "torch.Size([16, 3, 64, 64])"
     },
     "execution_count": 99,
     "metadata": {},
     "output_type": "execute_result"
    }
   ],
   "source": [
    "data, _ = next(iter(train_dataloader))\n",
    "\n",
    "data.shape"
   ],
   "metadata": {
    "collapsed": false,
    "ExecuteTime": {
     "end_time": "2024-06-11T06:18:04.726702300Z",
     "start_time": "2024-06-11T06:18:04.541913200Z"
    }
   }
  },
  {
   "cell_type": "code",
   "execution_count": 100,
   "outputs": [],
   "source": [
    "class weatherClassificationModelv0(nn.Module):\n",
    "    def __init__(self):\n",
    "        super().__init__()\n",
    "        self.conv1 = nn.Conv2d(in_channels=3, out_channels=16, kernel_size=3, padding=1)\n",
    "        self.conv2 = nn.Conv2d(in_channels=16, out_channels=32, kernel_size = 3, padding = 1)\n",
    "        self.pool = nn.MaxPool2d(kernel_size=2, stride=2, padding=0)\n",
    "        self.fc1 = nn.Linear(in_features=32*16*16, out_features=128)\n",
    "        self.fc2 = nn.Linear(in_features=128, out_features=4)\n",
    "        self.relu = nn.ReLU()\n",
    "\n",
    "    def forward(self, x : torch.tensor)-> torch.Tensor:\n",
    "        x = self.pool(self.relu(self.conv1(x)))\n",
    "        x = self.pool(self.relu(self.conv2(x)))\n",
    "        x = x.view(-1, 32*16*16)\n",
    "        x = self.relu(self.fc1(x))\n",
    "        x = self.fc2(x)\n",
    "        return x"
   ],
   "metadata": {
    "collapsed": false,
    "ExecuteTime": {
     "end_time": "2024-06-11T06:18:04.797466700Z",
     "start_time": "2024-06-11T06:18:04.740250800Z"
    }
   }
  },
  {
   "cell_type": "code",
   "execution_count": 101,
   "outputs": [],
   "source": [
    "modelv0 = weatherClassificationModelv0()\n",
    "\n",
    "loss_fn = nn.CrossEntropyLoss()\n",
    "optimizer = torch.optim.Adam(modelv0.parameters(), lr=0.001)"
   ],
   "metadata": {
    "collapsed": false,
    "ExecuteTime": {
     "end_time": "2024-06-11T06:18:04.798487300Z",
     "start_time": "2024-06-11T06:18:04.758911500Z"
    }
   }
  },
  {
   "cell_type": "code",
   "execution_count": 102,
   "outputs": [],
   "source": [
    "def accuracy_function(y_true, y_pred):\n",
    "\n",
    "    correct = torch.eq(y_true, y_pred).sum()\n",
    "    acc = (correct/ len(y_pred))*100\n",
    "    return acc"
   ],
   "metadata": {
    "collapsed": false,
    "ExecuteTime": {
     "end_time": "2024-06-11T06:18:04.819937500Z",
     "start_time": "2024-06-11T06:18:04.794128900Z"
    }
   }
  },
  {
   "cell_type": "code",
   "execution_count": 103,
   "outputs": [],
   "source": [
    "def train(model : torch.nn.Module, data_loader : torch.utils.data.DataLoader, loss_fn : torch.nn.Module, optimizer : torch.optim.Optimizer, accuracy_function, device : torch.device = device):\n",
    "\n",
    "    model.to(device)\n",
    "    train_loss = 0\n",
    "    acc = 0\n",
    "    model.train()\n",
    "    for batch, (img, label) in enumerate(data_loader):\n",
    "\n",
    "        img, label = img.to(device), label.to(device)\n",
    "        train_preds = model(img)\n",
    "        loss = loss_fn(train_preds, label)\n",
    "        train_loss+=loss\n",
    "        acc+=accuracy_function(y_true = label, y_pred = train_preds.argmax(dim=1))\n",
    "        optimizer.zero_grad()\n",
    "        loss.backward()\n",
    "        optimizer.step()\n",
    "\n",
    "\n",
    "        if batch % 53 == 0:\n",
    "            print(f\"Looked at {(batch+1) * len(img)}/{len(train_dataloader.dataset)} samples.\")\n",
    "\n",
    "    train_loss /= len(data_loader)\n",
    "    acc /= len(data_loader)\n",
    "\n",
    "    print(f\"Train loss : {train_loss:.4f}, train acc : {acc:2f}%\")"
   ],
   "metadata": {
    "collapsed": false,
    "ExecuteTime": {
     "end_time": "2024-06-11T06:18:04.827953500Z",
     "start_time": "2024-06-11T06:18:04.812521800Z"
    }
   }
  },
  {
   "cell_type": "code",
   "execution_count": 104,
   "outputs": [],
   "source": [
    "def test(model : torch.nn.Module,data_loader : torch.utils.data.DataLoader, loss_fn : torch.nn.Module, accuracy_function, device : torch.device = device):\n",
    "\n",
    "    model.to(device)\n",
    "    test_loss, test_acc = 0, 0\n",
    "    model.eval()\n",
    "    with torch.inference_mode():\n",
    "\n",
    "        for x, y in data_loader:\n",
    "            x, y = x.to(device), y.to(device)\n",
    "            test_preds = model(x)\n",
    "            test_loss += loss_fn(test_preds, y)\n",
    "            test_acc += accuracy_function(y_true = y, y_pred = test_preds.argmax(dim=1))\n",
    "\n",
    "        test_loss /= len(data_loader)\n",
    "        test_acc /= len(data_loader)\n",
    "\n",
    "        print(f\"Test loss : {test_loss:.3f}, test acc : {test_acc:.2f}%\")"
   ],
   "metadata": {
    "collapsed": false,
    "ExecuteTime": {
     "end_time": "2024-06-11T06:18:04.889647700Z",
     "start_time": "2024-06-11T06:18:04.828953500Z"
    }
   }
  },
  {
   "cell_type": "code",
   "execution_count": 105,
   "outputs": [
    {
     "name": "stdout",
     "output_type": "stream",
     "text": [
      "Epoch : 1\n",
      "Looked at 0/907 samples.\n",
      "Looked at 848/907 samples.\n",
      "Train loss : 0.8718, train acc : 62.789074%\n",
      "Test loss : 0.642, test acc : 78.04%\n",
      "Epoch : 2\n",
      "Looked at 0/907 samples.\n",
      "Looked at 848/907 samples.\n",
      "Train loss : 0.5415, train acc : 78.568581%\n",
      "Test loss : 0.498, test acc : 79.91%\n",
      "Epoch : 3\n",
      "Looked at 0/907 samples.\n",
      "Looked at 848/907 samples.\n",
      "Train loss : 0.4746, train acc : 82.137161%\n",
      "Test loss : 0.502, test acc : 83.48%\n",
      "Epoch : 4\n",
      "Looked at 0/907 samples.\n",
      "Looked at 848/907 samples.\n",
      "Train loss : 0.4093, train acc : 83.941391%\n",
      "Test loss : 0.413, test acc : 84.38%\n",
      "Epoch : 5\n",
      "Looked at 0/907 samples.\n",
      "Looked at 848/907 samples.\n",
      "Train loss : 0.3708, train acc : 85.755585%\n",
      "Test loss : 0.324, test acc : 87.50%\n",
      "Epoch : 6\n",
      "Looked at 0/907 samples.\n",
      "Looked at 848/907 samples.\n",
      "Train loss : 0.3080, train acc : 88.985252%\n",
      "Test loss : 0.306, test acc : 89.73%\n",
      "Epoch : 7\n",
      "Looked at 0/907 samples.\n",
      "Looked at 848/907 samples.\n",
      "Train loss : 0.2705, train acc : 89.374008%\n",
      "Test loss : 0.378, test acc : 86.16%\n",
      "Epoch : 8\n",
      "Looked at 0/907 samples.\n",
      "Looked at 848/907 samples.\n",
      "Train loss : 0.2358, train acc : 91.616829%\n",
      "Test loss : 0.323, test acc : 88.84%\n",
      "Epoch : 9\n",
      "Looked at 0/907 samples.\n",
      "Looked at 848/907 samples.\n",
      "Train loss : 0.2223, train acc : 91.895935%\n",
      "Test loss : 0.344, test acc : 87.50%\n",
      "Epoch : 10\n",
      "Looked at 0/907 samples.\n",
      "Looked at 848/907 samples.\n",
      "Train loss : 0.1732, train acc : 94.078949%\n",
      "Test loss : 0.353, test acc : 89.73%\n",
      "Epoch : 11\n",
      "Looked at 0/907 samples.\n",
      "Looked at 848/907 samples.\n",
      "Train loss : 0.1175, train acc : 95.843307%\n",
      "Test loss : 0.359, test acc : 89.29%\n",
      "Epoch : 12\n",
      "Looked at 0/907 samples.\n",
      "Looked at 848/907 samples.\n",
      "Train loss : 0.1126, train acc : 95.783493%\n",
      "Test loss : 0.314, test acc : 87.95%\n",
      "Epoch : 13\n",
      "Looked at 0/907 samples.\n",
      "Looked at 848/907 samples.\n",
      "Train loss : 0.0792, train acc : 98.135963%\n",
      "Test loss : 0.488, test acc : 85.71%\n",
      "Epoch : 14\n",
      "Looked at 0/907 samples.\n",
      "Looked at 848/907 samples.\n",
      "Train loss : 0.0867, train acc : 96.929825%\n",
      "Test loss : 0.394, test acc : 88.39%\n",
      "Epoch : 15\n",
      "Looked at 0/907 samples.\n",
      "Looked at 848/907 samples.\n",
      "Train loss : 0.0555, train acc : 98.355263%\n",
      "Test loss : 0.363, test acc : 88.84%\n",
      "Epoch : 16\n",
      "Looked at 0/907 samples.\n",
      "Looked at 848/907 samples.\n",
      "Train loss : 0.0399, train acc : 99.122810%\n",
      "Test loss : 0.444, test acc : 88.84%\n",
      "Epoch : 17\n",
      "Looked at 0/907 samples.\n",
      "Looked at 848/907 samples.\n",
      "Train loss : 0.0304, train acc : 99.232452%\n",
      "Test loss : 0.397, test acc : 88.84%\n",
      "Epoch : 18\n",
      "Looked at 0/907 samples.\n",
      "Looked at 848/907 samples.\n",
      "Train loss : 0.0211, train acc : 99.561401%\n",
      "Test loss : 0.484, test acc : 88.84%\n",
      "Epoch : 19\n",
      "Looked at 0/907 samples.\n",
      "Looked at 848/907 samples.\n",
      "Train loss : 0.0180, train acc : 99.671051%\n",
      "Test loss : 0.436, test acc : 88.84%\n",
      "Epoch : 20\n",
      "Looked at 0/907 samples.\n",
      "Looked at 848/907 samples.\n",
      "Train loss : 0.0168, train acc : 99.451752%\n",
      "Test loss : 0.538, test acc : 86.16%\n"
     ]
    }
   ],
   "source": [
    "epochs = 20\n",
    "\n",
    "for epoch in range(epochs):\n",
    "    print(f\"Epoch : {epoch+1}\")\n",
    "\n",
    "    train(model=modelv0, data_loader=train_dataloader, loss_fn = loss_fn, optimizer = optimizer, accuracy_function=accuracy_function, device = device)\n",
    "\n",
    "    test(model=modelv0, data_loader=test_dataloader, loss_fn=loss_fn, accuracy_function=accuracy_function, device = device)"
   ],
   "metadata": {
    "collapsed": false,
    "ExecuteTime": {
     "end_time": "2024-06-11T06:20:26.783962500Z",
     "start_time": "2024-06-11T06:18:04.851867100Z"
    }
   }
  },
  {
   "cell_type": "code",
   "execution_count": 123,
   "outputs": [
    {
     "name": "stdout",
     "output_type": "stream",
     "text": [
      "rainy\n"
     ]
    }
   ],
   "source": [
    "from PIL import Image\n",
    "\n",
    "img_path = \"C:\\\\large_files\\\\data_weather\\\\val\\\\rainy\\\\rain22.jpeg\"\n",
    "\n",
    "img = Image.open(img_path)\n",
    "\n",
    "img = transform(img).unsqueeze(0)\n",
    "\n",
    "modelv0.eval()\n",
    "with torch.no_grad():\n",
    "    pred = modelv0(img)\n",
    "\n",
    "    print(class_idx[pred.argmax(dim=1).item()])"
   ],
   "metadata": {
    "collapsed": false,
    "ExecuteTime": {
     "end_time": "2024-06-11T06:21:40.930042Z",
     "start_time": "2024-06-11T06:21:40.808897700Z"
    }
   }
  },
  {
   "cell_type": "code",
   "execution_count": 126,
   "outputs": [],
   "source": [
    "model_path = \"../models/weather_classification_modelv0.pth\"\n",
    "torch.save(modelv0.state_dict(), model_path)"
   ],
   "metadata": {
    "collapsed": false,
    "ExecuteTime": {
     "end_time": "2024-06-11T06:28:43.480405Z",
     "start_time": "2024-06-11T06:28:43.412681500Z"
    }
   }
  },
  {
   "cell_type": "code",
   "execution_count": 106,
   "outputs": [],
   "source": [],
   "metadata": {
    "collapsed": false,
    "ExecuteTime": {
     "end_time": "2024-06-11T06:20:26.843715700Z",
     "start_time": "2024-06-11T06:20:26.817219Z"
    }
   }
  },
  {
   "cell_type": "code",
   "execution_count": 106,
   "outputs": [],
   "source": [],
   "metadata": {
    "collapsed": false,
    "ExecuteTime": {
     "end_time": "2024-06-11T06:20:26.853158400Z",
     "start_time": "2024-06-11T06:20:26.834720Z"
    }
   }
  },
  {
   "cell_type": "code",
   "execution_count": 106,
   "outputs": [],
   "source": [],
   "metadata": {
    "collapsed": false,
    "ExecuteTime": {
     "end_time": "2024-06-11T06:20:26.861631400Z",
     "start_time": "2024-06-11T06:20:26.847713400Z"
    }
   }
  }
 ],
 "metadata": {
  "kernelspec": {
   "display_name": "Python 3",
   "language": "python",
   "name": "python3"
  },
  "language_info": {
   "codemirror_mode": {
    "name": "ipython",
    "version": 2
   },
   "file_extension": ".py",
   "mimetype": "text/x-python",
   "name": "python",
   "nbconvert_exporter": "python",
   "pygments_lexer": "ipython2",
   "version": "2.7.6"
  }
 },
 "nbformat": 4,
 "nbformat_minor": 0
}
