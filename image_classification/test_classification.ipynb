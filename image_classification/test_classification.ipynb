{
 "cells": [
  {
   "cell_type": "code",
   "execution_count": 98,
   "outputs": [],
   "source": [
    "import numpy as np\n",
    "import matplotlib.pyplot as plt"
   ],
   "metadata": {
    "collapsed": false,
    "ExecuteTime": {
     "end_time": "2024-08-18T06:15:25.382986200Z",
     "start_time": "2024-08-18T06:15:25.269109100Z"
    }
   }
  },
  {
   "cell_type": "markdown",
   "source": [
    "# Data"
   ],
   "metadata": {
    "collapsed": false
   }
  },
  {
   "cell_type": "code",
   "execution_count": 99,
   "metadata": {
    "collapsed": true,
    "ExecuteTime": {
     "end_time": "2024-08-18T06:15:25.384999500Z",
     "start_time": "2024-08-18T06:15:25.302118100Z"
    }
   },
   "outputs": [],
   "source": [
    "samples = 1000\n",
    "features = 10\n",
    "\n",
    "np.random.seed(42)\n",
    "\n",
    "data = np.random.randn(samples, features)\n",
    "\n",
    "weights = np.random.randn(features)\n",
    "\n",
    "labels = (data.dot(weights) + np.random.randn(samples)*0.5) > 0\n",
    "\n",
    "labels = labels.astype(int)"
   ]
  },
  {
   "cell_type": "markdown",
   "source": [
    "# Logistic regression"
   ],
   "metadata": {
    "collapsed": false
   }
  },
  {
   "cell_type": "code",
   "execution_count": 100,
   "outputs": [],
   "source": [
    "class logistic_regression:\n",
    "    def __init__(self, learning_rate = 0.01, epochs = 100):\n",
    "        self.lr = learning_rate\n",
    "        self.epochs = epochs\n",
    "        self.weights = None\n",
    "        self.bias = None\n",
    "        self.losses = []\n",
    "\n",
    "    def sigmoid(self, x):\n",
    "        return 1/(1+np.exp(-x))\n",
    "\n",
    "\n",
    "    def bce(self, y_true, y_pred):\n",
    "        epsilon = 1e-9\n",
    "        y1 = y_true * np.log(y_pred + epsilon)\n",
    "        y2 = (1-y_true) * np.log(1 - y_pred + epsilon)\n",
    "        return -np.mean(y1 + y2)\n",
    "\n",
    "\n",
    "    def forward(self, x):\n",
    "        pred = x.dot(self.weights) + self.bias\n",
    "        return self.sigmoid(pred)\n",
    "\n",
    "\n",
    "    def fit(self, data, labels):\n",
    "        samples, features = data.shape\n",
    "        self.weights = np.zeros(features)*0.1\n",
    "        self.bias = 0\n",
    "\n",
    "        for epoch in range(self.epochs):\n",
    "            pred_labels = self.forward(data)\n",
    "            loss = self.bce(labels, pred_labels)\n",
    "            self.losses.append(loss)\n",
    "\n",
    "            dz = pred_labels - labels\n",
    "\n",
    "            dw = (1/samples) * (data.T).dot(dz)\n",
    "            db = (1/samples) * np.sum(dz)\n",
    "\n",
    "            self.weights -= self.lr * dw\n",
    "            self.bias -= self.lr * db\n",
    "\n",
    "\n",
    "    def predict(self, x, threshold=0.6):\n",
    "        y_pred = x.dot(self.weights) + self.bias\n",
    "        y_label = self.sigmoid(y_pred)\n",
    "\n",
    "        y_label = [1 if i > threshold else 0 for i in y_label]\n",
    "\n",
    "        return np.array(y_label)\n",
    "\n",
    "\n",
    "    def accuracy(self, y_true, y_pred):\n",
    "        correct_predictions = np.sum(y_true == y_pred)\n",
    "        accuracy = correct_predictions / len(y_true)\n",
    "        return accuracy"
   ],
   "metadata": {
    "collapsed": false,
    "ExecuteTime": {
     "end_time": "2024-08-18T06:15:25.386168500Z",
     "start_time": "2024-08-18T06:15:25.337349100Z"
    }
   }
  },
  {
   "cell_type": "code",
   "execution_count": 101,
   "outputs": [],
   "source": [
    "model = logistic_regression(0.08, 1000)\n",
    "\n",
    "model.fit(data, labels)\n",
    "\n",
    "preds = model.predict(data)"
   ],
   "metadata": {
    "collapsed": false,
    "ExecuteTime": {
     "end_time": "2024-08-18T06:15:26.375093100Z",
     "start_time": "2024-08-18T06:15:25.361935400Z"
    }
   }
  },
  {
   "cell_type": "code",
   "execution_count": 104,
   "outputs": [
    {
     "name": "stdout",
     "output_type": "stream",
     "text": [
      "Accuracy : 0.939\n"
     ]
    },
    {
     "data": {
      "text/plain": "<Figure size 640x480 with 1 Axes>",
      "image/png": "[encoded data removed]"
     },
     "metadata": {},
     "output_type": "display_data"
    }
   ],
   "source": [
    "acc = model.accuracy(labels, preds)\n",
    "\n",
    "print(f\"Accuracy : {acc}\")\n",
    "\n",
    "plt.plot(range(len(model.losses)), model.losses)\n",
    "plt.xlabel('Epoch')\n",
    "plt.ylabel('BCE Loss')\n",
    "plt.title('Loss over epochs')\n",
    "plt.grid(True)\n",
    "plt.show()\n"
   ],
   "metadata": {
    "collapsed": false,
    "ExecuteTime": {
     "end_time": "2024-08-18T06:15:57.475348100Z",
     "start_time": "2024-08-18T06:15:57.273125100Z"
    }
   }
  },
  {
   "cell_type": "code",
   "execution_count": 102,
   "outputs": [],
   "source": [],
   "metadata": {
    "collapsed": false,
    "ExecuteTime": {
     "end_time": "2024-08-18T06:15:26.713703100Z",
     "start_time": "2024-08-18T06:15:26.658600300Z"
    }
   }
  },
  {
   "cell_type": "code",
   "execution_count": 102,
   "outputs": [],
   "source": [],
   "metadata": {
    "collapsed": false,
    "ExecuteTime": {
     "end_time": "2024-08-18T06:15:26.713703100Z",
     "start_time": "2024-08-18T06:15:26.671852300Z"
    }
   }
  }
 ],
 "metadata": {
  "kernelspec": {
   "display_name": "Python 3",
   "language": "python",
   "name": "python3"
  },
  "language_info": {
   "codemirror_mode": {
    "name": "ipython",
    "version": 2
   },
   "file_extension": ".py",
   "mimetype": "text/x-python",
   "name": "python",
   "nbconvert_exporter": "python",
   "pygments_lexer": "ipython2",
   "version": "2.7.6"
  }
 },
 "nbformat": 4,
 "nbformat_minor": 0
}
