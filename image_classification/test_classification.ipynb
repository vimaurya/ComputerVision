{
 "cells": [
  {
   "cell_type": "code",
   "execution_count": 36,
   "outputs": [],
   "source": [
    "import numpy as np"
   ],
   "metadata": {
    "collapsed": false,
    "ExecuteTime": {
     "end_time": "2024-08-15T07:40:02.359089300Z",
     "start_time": "2024-08-15T07:40:02.320963500Z"
    }
   }
  },
  {
   "cell_type": "code",
   "execution_count": 37,
   "metadata": {
    "collapsed": true,
    "ExecuteTime": {
     "end_time": "2024-08-15T07:40:02.359089300Z",
     "start_time": "2024-08-15T07:40:02.340515600Z"
    }
   },
   "outputs": [],
   "source": [
    "samples = 1000\n",
    "features = 10\n",
    "\n",
    "np.random.seed(42)\n",
    "\n",
    "data = np.random.randn(samples, features)\n",
    "\n",
    "weights = np.random.randn(features)\n",
    "\n",
    "labels = (data.dot(weights) + np.random.randn(samples)*0.5) > 0\n",
    "\n",
    "labels = labels.astype(int)"
   ]
  },
  {
   "cell_type": "code",
   "execution_count": 38,
   "outputs": [],
   "source": [
    "class logistic_regression:\n",
    "    def __init__(self, learning_rate = 0.01, epochs = 100):\n",
    "        self.lr = learning_rate\n",
    "        self.epochs = epochs\n",
    "        self.weights = None\n",
    "        self.bias = None\n",
    "        self.losses = []\n",
    "\n",
    "    def sigmoid(self, x):\n",
    "        return 1/(1+np.exp(-x))\n",
    "\n",
    "    def bce(self, y_true, y_pred):\n",
    "        epsilon = 1e-9\n",
    "        y1 = y_true * np.log(y_pred + epsilon)\n",
    "        y2 = (1-y_true) * np.log(1 - y_pred + epsilon)\n",
    "        return -np.mean(y1 + y2)\n",
    "\n",
    "    def forward(self, x):\n",
    "        pred = x.dot(self.weights) + self.bias\n",
    "        return self.sigmoid(pred)\n",
    "\n",
    "\n",
    "    def fit(self, data, labels):\n",
    "        samples, features = data.shape\n",
    "\n",
    "        self.weights = np.zeros(features)\n",
    "        self.bias = 0\n",
    "\n",
    "        for _ in range(self.epochs):\n",
    "            pred_labels = self.forward(data)\n",
    "            self.losses.append(self.bce(labels, pred_labels))\n",
    "\n",
    "            dz = pred_labels - labels\n",
    "\n",
    "            dw = (1/samples) * (data.T).dot(dz)\n",
    "            db = (1/samples) * np.sum(dz)\n",
    "\n",
    "            self.weights -= self.lr * dw\n",
    "            self.bias -= self.lr * db\n",
    "\n",
    "\n",
    "    def predict(self, x, threshold=0.6):\n",
    "        y_pred = x.dot(self.weights) + self.bias\n",
    "        y_label = self.sigmoid(y_pred)\n",
    "\n",
    "        y_label = [1 if i > threshold else 0 for i in y_label]\n",
    "\n",
    "        return np.array(y_label)\n",
    "\n",
    "\n",
    "    def accuracy(self, y_true, y_pred):\n",
    "        correct_predictions = np.sum(y_true == y_pred)\n",
    "        accuracy = correct_predictions / len(y_true)\n",
    "        return accuracy"
   ],
   "metadata": {
    "collapsed": false,
    "ExecuteTime": {
     "end_time": "2024-08-15T07:40:02.370093300Z",
     "start_time": "2024-08-15T07:40:02.364094Z"
    }
   }
  },
  {
   "cell_type": "code",
   "execution_count": 49,
   "outputs": [
    {
     "name": "stdout",
     "output_type": "stream",
     "text": [
      "Accuracy : 0.915\n"
     ]
    }
   ],
   "source": [
    "model = logistic_regression(0.01, 1000)\n",
    "\n",
    "model.fit(data, labels)\n",
    "\n",
    "preds = model.predict(data)\n",
    "print(f\"Accuracy : {model.accuracy(labels, preds)}\")"
   ],
   "metadata": {
    "collapsed": false,
    "ExecuteTime": {
     "end_time": "2024-08-15T07:44:49.213049Z",
     "start_time": "2024-08-15T07:44:48.751205900Z"
    }
   }
  },
  {
   "cell_type": "code",
   "execution_count": 39,
   "outputs": [],
   "source": [],
   "metadata": {
    "collapsed": false,
    "ExecuteTime": {
     "end_time": "2024-08-15T07:40:02.507978800Z",
     "start_time": "2024-08-15T07:40:02.467959200Z"
    }
   }
  },
  {
   "cell_type": "code",
   "execution_count": 39,
   "outputs": [],
   "source": [],
   "metadata": {
    "collapsed": false,
    "ExecuteTime": {
     "end_time": "2024-08-15T07:40:02.508981800Z",
     "start_time": "2024-08-15T07:40:02.484968100Z"
    }
   }
  },
  {
   "cell_type": "code",
   "execution_count": 39,
   "outputs": [],
   "source": [],
   "metadata": {
    "collapsed": false,
    "ExecuteTime": {
     "end_time": "2024-08-15T07:40:02.514965700Z",
     "start_time": "2024-08-15T07:40:02.497973600Z"
    }
   }
  }
 ],
 "metadata": {
  "kernelspec": {
   "display_name": "Python 3",
   "language": "python",
   "name": "python3"
  },
  "language_info": {
   "codemirror_mode": {
    "name": "ipython",
    "version": 2
   },
   "file_extension": ".py",
   "mimetype": "text/x-python",
   "name": "python",
   "nbconvert_exporter": "python",
   "pygments_lexer": "ipython2",
   "version": "2.7.6"
  }
 },
 "nbformat": 4,
 "nbformat_minor": 0
}
