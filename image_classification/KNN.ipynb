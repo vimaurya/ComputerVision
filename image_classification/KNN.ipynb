{
 "cells": [
  {
   "cell_type": "code",
   "execution_count": 117,
   "metadata": {
    "collapsed": true,
    "ExecuteTime": {
     "end_time": "2024-08-02T09:27:57.120763300Z",
     "start_time": "2024-08-02T09:27:57.105896700Z"
    }
   },
   "outputs": [],
   "source": [
    "from torch.utils.data import Dataset, DataLoader\n",
    "import os\n",
    "from PIL import Image\n",
    "from torchvision import transforms\n",
    "import torch\n",
    "import numpy as np\n",
    "from collections import Counter"
   ]
  },
  {
   "cell_type": "code",
   "execution_count": 118,
   "outputs": [],
   "source": [
    "class ImageDataset(Dataset):\n",
    "    def __init__(self, folder, transform=None):\n",
    "        self.folder = folder\n",
    "        self.transform = transform\n",
    "        self.labels = []\n",
    "        self.image_paths = []\n",
    "        self.label_map = {'cats':0, 'dogs':1}\n",
    "\n",
    "        for label in ['cats', 'dogs']:\n",
    "            label_path = os.path.join(folder, label)\n",
    "            for img in os.listdir(label_path):\n",
    "                if img is not None:\n",
    "                    self.image_paths.append(os.path.join(label_path, img))\n",
    "                    self.labels.append(self.label_map[label])\n",
    "\n",
    "    def __len__(self):\n",
    "        return len(self.image_paths)\n",
    "\n",
    "    def __getitem__(self, index):\n",
    "        image = self.image_paths[index]\n",
    "        image = Image.open(image)\n",
    "        label = self.labels[index]\n",
    "\n",
    "        if self.transform:\n",
    "            image = self.transform(image)\n",
    "\n",
    "        return image, label"
   ],
   "metadata": {
    "collapsed": false,
    "ExecuteTime": {
     "end_time": "2024-08-02T09:27:57.155712600Z",
     "start_time": "2024-08-02T09:27:57.134941200Z"
    }
   }
  },
  {
   "cell_type": "code",
   "execution_count": 119,
   "outputs": [],
   "source": [
    "train = \"C://large_files//cuties//train\"\n",
    "test = \"C://large_files//cuties//test\"\n",
    "\n",
    "img_size = (64, 64)\n",
    "\n",
    "transform = transforms.Compose([\n",
    "    transforms.Resize(img_size),\n",
    "    transforms.ToTensor()\n",
    "])\n",
    "\n",
    "\n",
    "train_dataset = ImageDataset(train, transform)\n",
    "test_dataset = ImageDataset(test, transform)"
   ],
   "metadata": {
    "collapsed": false,
    "ExecuteTime": {
     "end_time": "2024-08-02T09:27:57.198780900Z",
     "start_time": "2024-08-02T09:27:57.162161800Z"
    }
   }
  },
  {
   "cell_type": "code",
   "execution_count": 120,
   "outputs": [
    {
     "data": {
      "text/plain": "(torch.Size([3, 64, 64]), 0)"
     },
     "execution_count": 120,
     "metadata": {},
     "output_type": "execute_result"
    }
   ],
   "source": [
    "image, label = train_dataset.__getitem__(600)\n",
    "\n",
    "image.shape, label"
   ],
   "metadata": {
    "collapsed": false,
    "ExecuteTime": {
     "end_time": "2024-08-02T09:27:57.261108200Z",
     "start_time": "2024-08-02T09:27:57.202317700Z"
    }
   }
  },
  {
   "cell_type": "code",
   "execution_count": 121,
   "outputs": [],
   "source": [
    "train_dataloader = DataLoader(train_dataset, batch_size=32, shuffle=True)\n",
    "test_dataloader = DataLoader(test_dataset, batch_size=32, shuffle=True)"
   ],
   "metadata": {
    "collapsed": false,
    "ExecuteTime": {
     "end_time": "2024-08-02T09:27:57.318970800Z",
     "start_time": "2024-08-02T09:27:57.266387Z"
    }
   }
  },
  {
   "cell_type": "code",
   "execution_count": 122,
   "outputs": [
    {
     "name": "stdout",
     "output_type": "stream",
     "text": [
      "torch.Size([32, 3, 64, 64])\n",
      "torch.Size([32])\n"
     ]
    }
   ],
   "source": [
    "for image, label in train_dataloader:\n",
    "    print(image.shape)\n",
    "    print(label.shape)\n",
    "    break"
   ],
   "metadata": {
    "collapsed": false,
    "ExecuteTime": {
     "end_time": "2024-08-02T09:27:57.432600200Z",
     "start_time": "2024-08-02T09:27:57.295523200Z"
    }
   }
  },
  {
   "cell_type": "code",
   "execution_count": 123,
   "outputs": [
    {
     "name": "stdout",
     "output_type": "stream",
     "text": [
      "torch.Size([32, 3, 64, 64])\n",
      "torch.Size([3, 64, 64])\n"
     ]
    }
   ],
   "source": [
    "for data, _ in test_dataloader:\n",
    "    print(data.shape)\n",
    "    for x in data:\n",
    "        print(x.shape)\n",
    "        break\n",
    "    break"
   ],
   "metadata": {
    "collapsed": false,
    "ExecuteTime": {
     "end_time": "2024-08-02T09:27:57.540962700Z",
     "start_time": "2024-08-02T09:27:57.431595400Z"
    }
   }
  },
  {
   "cell_type": "code",
   "execution_count": 124,
   "outputs": [],
   "source": [
    "class KNN:\n",
    "    def __init__(self, k=3):\n",
    "        self.train_labels = None\n",
    "        self.train_imgs = None\n",
    "        self.k = k\n",
    "        \n",
    "    def train(self, train_dataloader):\n",
    "        self.train_imgs = []\n",
    "        self.train_labels = []\n",
    "\n",
    "        for imgs, labels in train_dataloader:\n",
    "            self.train_imgs.append(imgs)\n",
    "            self.train_labels.append(labels)\n",
    "\n",
    "        self.train_imgs = torch.cat(self.train_imgs)\n",
    "        self.train_labels = torch.cat(self.train_labels)\n",
    "\n",
    "        self.train_imgs = self.train_imgs.view(self.train_imgs.size(0), -1)\n",
    "        print(\"Done with train.\")\n",
    "\n",
    "    def predict(self, test_dataloader):\n",
    "        predictions = []\n",
    "        actual_labels = []\n",
    "        for imgs, labels in test_dataloader:\n",
    "            imgs = imgs.view(imgs.size(0), -1)\n",
    "            for img in imgs:\n",
    "                predictions.append(self._predict(img))\n",
    "            actual_labels.extend(labels)\n",
    "\n",
    "        return np.array(predictions), np.array(actual_labels)\n",
    "\n",
    "    def _predict(self, img):\n",
    "        distances = torch.sqrt(torch.sum((self.train_imgs - img) ** 2, dim=1))\n",
    "\n",
    "        k_indices = distances.argsort()[:self.k]\n",
    "\n",
    "        k_nearest_labels = [self.train_labels[i].item() for i in k_indices]\n",
    "\n",
    "        most_common = Counter(k_nearest_labels).most_common(1)\n",
    "\n",
    "        return most_common[0][0]\n",
    "\n"
   ],
   "metadata": {
    "collapsed": false,
    "ExecuteTime": {
     "end_time": "2024-08-02T09:27:57.598951200Z",
     "start_time": "2024-08-02T09:27:57.550058600Z"
    }
   }
  },
  {
   "cell_type": "code",
   "execution_count": 125,
   "outputs": [],
   "source": [
    "def calculate_accuracy(predictions, labels):\n",
    "    correct = np.sum(predictions == labels)\n",
    "    total = len(labels)\n",
    "    accuracy = correct / total\n",
    "    return accuracy"
   ],
   "metadata": {
    "collapsed": false,
    "ExecuteTime": {
     "end_time": "2024-08-02T09:27:57.615687Z",
     "start_time": "2024-08-02T09:27:57.575055300Z"
    }
   }
  },
  {
   "cell_type": "code",
   "execution_count": 126,
   "outputs": [
    {
     "name": "stdout",
     "output_type": "stream",
     "text": [
      "Done with train.\n",
      "Accuracy is 0.5708955223880597\n"
     ]
    }
   ],
   "source": [
    "knn = KNN(k=5)\n",
    "knn.train(train_dataloader)\n",
    "predictions, actual_labels = knn.predict(test_dataloader)\n",
    "\n",
    "\n",
    "print(f\"Accuracy is {calculate_accuracy(predictions, actual_labels)}\")"
   ],
   "metadata": {
    "collapsed": false,
    "ExecuteTime": {
     "end_time": "2024-08-02T09:29:10.836158900Z",
     "start_time": "2024-08-02T09:27:57.598951200Z"
    }
   }
  }
 ],
 "metadata": {
  "kernelspec": {
   "display_name": "Python 3",
   "language": "python",
   "name": "python3"
  },
  "language_info": {
   "codemirror_mode": {
    "name": "ipython",
    "version": 2
   },
   "file_extension": ".py",
   "mimetype": "text/x-python",
   "name": "python",
   "nbconvert_exporter": "python",
   "pygments_lexer": "ipython2",
   "version": "2.7.6"
  }
 },
 "nbformat": 4,
 "nbformat_minor": 0
}
