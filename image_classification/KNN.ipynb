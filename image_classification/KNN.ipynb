{
 "cells": [
  {
   "cell_type": "code",
   "execution_count": 107,
   "metadata": {
    "collapsed": true,
    "ExecuteTime": {
     "end_time": "2024-08-02T09:12:49.389502500Z",
     "start_time": "2024-08-02T09:12:49.337367100Z"
    }
   },
   "outputs": [],
   "source": [
    "from torch.utils.data import Dataset, DataLoader\n",
    "import os\n",
    "from PIL import Image\n",
    "from torchvision import transforms\n",
    "import torch\n",
    "import numpy as np\n",
    "from collections import Counter"
   ]
  },
  {
   "cell_type": "code",
   "execution_count": 108,
   "outputs": [],
   "source": [
    "class ImageDataset(Dataset):\n",
    "    def __init__(self, folder, transform=None):\n",
    "        self.folder = folder\n",
    "        self.transform = transform\n",
    "        self.labels = []\n",
    "        self.image_paths = []\n",
    "        self.label_map = {'cats':0, 'dogs':1}\n",
    "\n",
    "        for label in ['cats', 'dogs']:\n",
    "            label_path = os.path.join(folder, label)\n",
    "            for img in os.listdir(label_path):\n",
    "                if img is not None:\n",
    "                    self.image_paths.append(os.path.join(label_path, img))\n",
    "                    self.labels.append(self.label_map[label])\n",
    "\n",
    "    def __len__(self):\n",
    "        return len(self.image_paths)\n",
    "\n",
    "    def __getitem__(self, index):\n",
    "        image = self.image_paths[index]\n",
    "        image = Image.open(image)\n",
    "        label = self.labels[index]\n",
    "\n",
    "        if self.transform:\n",
    "            image = self.transform(image)\n",
    "\n",
    "        return image, label"
   ],
   "metadata": {
    "collapsed": false,
    "ExecuteTime": {
     "end_time": "2024-08-02T09:12:49.390525800Z",
     "start_time": "2024-08-02T09:12:49.363994100Z"
    }
   }
  },
  {
   "cell_type": "code",
   "execution_count": 109,
   "outputs": [],
   "source": [
    "train = \"C://large_files//cuties//train\"\n",
    "test = \"C://large_files//cuties//test\"\n",
    "\n",
    "img_size = (64, 64)\n",
    "\n",
    "transform = transforms.Compose([\n",
    "    transforms.Resize(img_size),\n",
    "    transforms.ToTensor()\n",
    "])\n",
    "\n",
    "\n",
    "train_dataset = ImageDataset(train, transform)\n",
    "test_dataset = ImageDataset(test, transform)"
   ],
   "metadata": {
    "collapsed": false,
    "ExecuteTime": {
     "end_time": "2024-08-02T09:12:49.403762600Z",
     "start_time": "2024-08-02T09:12:49.373031100Z"
    }
   }
  },
  {
   "cell_type": "code",
   "execution_count": 110,
   "outputs": [
    {
     "data": {
      "text/plain": "(torch.Size([3, 64, 64]), 0)"
     },
     "execution_count": 110,
     "metadata": {},
     "output_type": "execute_result"
    }
   ],
   "source": [
    "image, label = train_dataset.__getitem__(600)\n",
    "\n",
    "image.shape, label"
   ],
   "metadata": {
    "collapsed": false,
    "ExecuteTime": {
     "end_time": "2024-08-02T09:12:49.445555300Z",
     "start_time": "2024-08-02T09:12:49.406352500Z"
    }
   }
  },
  {
   "cell_type": "code",
   "execution_count": 111,
   "outputs": [],
   "source": [
    "train_dataloader = DataLoader(train_dataset, batch_size=32, shuffle=True)\n",
    "test_dataloader = DataLoader(test_dataset, batch_size=32, shuffle=True)"
   ],
   "metadata": {
    "collapsed": false,
    "ExecuteTime": {
     "end_time": "2024-08-02T09:12:49.461517400Z",
     "start_time": "2024-08-02T09:12:49.422374300Z"
    }
   }
  },
  {
   "cell_type": "code",
   "execution_count": 112,
   "outputs": [
    {
     "name": "stdout",
     "output_type": "stream",
     "text": [
      "torch.Size([32, 3, 64, 64])\n",
      "torch.Size([32])\n"
     ]
    }
   ],
   "source": [
    "for image, label in train_dataloader:\n",
    "    print(image.shape)\n",
    "    print(label.shape)\n",
    "    break"
   ],
   "metadata": {
    "collapsed": false,
    "ExecuteTime": {
     "end_time": "2024-08-02T09:12:49.511209700Z",
     "start_time": "2024-08-02T09:12:49.436758Z"
    }
   }
  },
  {
   "cell_type": "code",
   "execution_count": 113,
   "outputs": [
    {
     "name": "stdout",
     "output_type": "stream",
     "text": [
      "torch.Size([32, 3, 64, 64])\n",
      "torch.Size([3, 64, 64])\n"
     ]
    }
   ],
   "source": [
    "for data, _ in test_dataloader:\n",
    "    print(data.shape)\n",
    "    for x in data:\n",
    "        print(x.shape)\n",
    "        break\n",
    "    break"
   ],
   "metadata": {
    "collapsed": false,
    "ExecuteTime": {
     "end_time": "2024-08-02T09:12:49.589775200Z",
     "start_time": "2024-08-02T09:12:49.512204500Z"
    }
   }
  },
  {
   "cell_type": "code",
   "execution_count": 114,
   "outputs": [],
   "source": [
    "class KNN:\n",
    "    def __init__(self, k=3):\n",
    "        self.train_labels = None\n",
    "        self.train_imgs = None\n",
    "        self.k = k\n",
    "        \n",
    "    def train(self, train_dataloader):\n",
    "        self.train_imgs = []\n",
    "        self.train_labels = []\n",
    "\n",
    "        for imgs, labels in train_dataloader:\n",
    "            self.train_imgs.append(imgs)\n",
    "            self.train_labels.append(labels)\n",
    "\n",
    "        self.train_imgs = torch.cat(self.train_imgs)\n",
    "        self.train_labels = torch.cat(self.train_labels)\n",
    "\n",
    "        self.train_imgs = self.train_imgs.view(self.train_imgs.size(0), -1)\n",
    "        print(\"Done with train.\")\n",
    "\n",
    "    def predict(self, test_dataloader):\n",
    "        predictions = []\n",
    "        actual_labels = []\n",
    "        for imgs, labels in test_dataloader:\n",
    "            imgs = imgs.view(imgs.size(0), -1)\n",
    "            for img in imgs:\n",
    "                predictions.append(self._predict(img))\n",
    "            actual_labels.extend(labels)\n",
    "\n",
    "        return np.array(predictions), np.array(actual_labels)\n",
    "\n",
    "    def _predict(self, img):\n",
    "        distances = torch.sqrt(torch.sum((self.train_imgs - img) ** 2, dim=1))\n",
    "\n",
    "        k_indices = distances.argsort()[:self.k]\n",
    "\n",
    "        k_nearest_labels = [self.train_labels[i].item() for i in k_indices]\n",
    "\n",
    "        most_common = Counter(k_nearest_labels).most_common(1)\n",
    "\n",
    "        return most_common[0][0]\n",
    "\n"
   ],
   "metadata": {
    "collapsed": false,
    "ExecuteTime": {
     "end_time": "2024-08-02T09:12:49.634068300Z",
     "start_time": "2024-08-02T09:12:49.597310600Z"
    }
   }
  },
  {
   "cell_type": "code",
   "execution_count": 115,
   "outputs": [],
   "source": [
    "def calculate_accuracy(predictions, labels):\n",
    "    correct = np.sum(predictions == labels)\n",
    "    total = len(labels)\n",
    "    accuracy = correct / total\n",
    "    return accuracy"
   ],
   "metadata": {
    "collapsed": false,
    "ExecuteTime": {
     "end_time": "2024-08-02T09:12:49.645458400Z",
     "start_time": "2024-08-02T09:12:49.610320200Z"
    }
   }
  },
  {
   "cell_type": "code",
   "execution_count": 116,
   "outputs": [
    {
     "name": "stdout",
     "output_type": "stream",
     "text": [
      "3998\n",
      "3998\n",
      "Accuracy is 0.5652985074626866\n"
     ]
    }
   ],
   "source": [
    "knn = KNN(k=3)\n",
    "knn.train(train_dataloader)\n",
    "predictions, actual_labels = knn.predict(test_dataloader)\n",
    "\n",
    "\n",
    "print(f\"Accuracy is {calculate_accuracy(predictions, actual_labels)}\")"
   ],
   "metadata": {
    "collapsed": false,
    "ExecuteTime": {
     "end_time": "2024-08-02T09:13:46.258202500Z",
     "start_time": "2024-08-02T09:12:49.634068300Z"
    }
   }
  }
 ],
 "metadata": {
  "kernelspec": {
   "display_name": "Python 3",
   "language": "python",
   "name": "python3"
  },
  "language_info": {
   "codemirror_mode": {
    "name": "ipython",
    "version": 2
   },
   "file_extension": ".py",
   "mimetype": "text/x-python",
   "name": "python",
   "nbconvert_exporter": "python",
   "pygments_lexer": "ipython2",
   "version": "2.7.6"
  }
 },
 "nbformat": 4,
 "nbformat_minor": 0
}
