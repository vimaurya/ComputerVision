{
 "cells": [
  {
   "cell_type": "code",
   "execution_count": 8,
   "metadata": {
    "collapsed": true,
    "ExecuteTime": {
     "end_time": "2024-08-02T07:32:58.283124300Z",
     "start_time": "2024-08-02T07:32:58.267387300Z"
    }
   },
   "outputs": [],
   "source": [
    "import cv2 as cv\n",
    "from torch.utils.data import Dataset, DataLoader\n",
    "import os\n",
    "from PIL import Image\n",
    "from torchvision import transforms"
   ]
  },
  {
   "cell_type": "code",
   "execution_count": 9,
   "outputs": [],
   "source": [
    "class ImageDataset(Dataset):\n",
    "    def __init__(self, folder, transform=None):\n",
    "        self.folder = folder\n",
    "        self.transform = transform\n",
    "        self.labels = []\n",
    "        self.image_paths = []\n",
    "        self.label_map = {'cats':0, 'dogs':1}\n",
    "\n",
    "        for label in ['cats', 'dogs']:\n",
    "            label_path = os.path.join(folder, label)\n",
    "            for img in os.listdir(label_path):\n",
    "                if img is not None:\n",
    "                    self.image_paths.append(os.path.join(label_path, img))\n",
    "                    self.labels.append(self.label_map[label])\n",
    "\n",
    "    def __len__(self):\n",
    "        return len(self.image_paths)\n",
    "\n",
    "    def __getitem__(self, index):\n",
    "        image = self.image_paths[index]\n",
    "        image = Image.open(image)\n",
    "        label = self.labels[index]\n",
    "\n",
    "        if self.transform:\n",
    "            image = self.transform(image)\n",
    "\n",
    "        return image, label"
   ],
   "metadata": {
    "collapsed": false,
    "ExecuteTime": {
     "end_time": "2024-08-02T07:32:58.317200600Z",
     "start_time": "2024-08-02T07:32:58.283638900Z"
    }
   }
  },
  {
   "cell_type": "code",
   "execution_count": 10,
   "outputs": [],
   "source": [
    "train = \"C://large_files//cuties//train\"\n",
    "test = \"C://large_files//cuties//test\"\n",
    "\n",
    "img_size = (64, 64)\n",
    "\n",
    "transform = transforms.Compose([\n",
    "    transforms.Resize(img_size),\n",
    "    transforms.ToTensor()\n",
    "])\n",
    "\n",
    "\n",
    "train_dataset = ImageDataset(train, transform)\n",
    "test_dataset = ImageDataset(test, transform)"
   ],
   "metadata": {
    "collapsed": false,
    "ExecuteTime": {
     "end_time": "2024-08-02T07:32:58.454982900Z",
     "start_time": "2024-08-02T07:32:58.301153400Z"
    }
   }
  },
  {
   "cell_type": "code",
   "execution_count": 11,
   "outputs": [
    {
     "data": {
      "text/plain": "(torch.Size([3, 64, 64]), 0)"
     },
     "execution_count": 11,
     "metadata": {},
     "output_type": "execute_result"
    }
   ],
   "source": [
    "image, label = train_dataset.__getitem__(600)\n",
    "\n",
    "image.shape, label"
   ],
   "metadata": {
    "collapsed": false,
    "ExecuteTime": {
     "end_time": "2024-08-02T07:32:58.468755400Z",
     "start_time": "2024-08-02T07:32:58.457495300Z"
    }
   }
  },
  {
   "cell_type": "code",
   "execution_count": 12,
   "outputs": [],
   "source": [
    "train_dataloader = DataLoader(train_dataset, batch_size=32, shuffle=True)\n",
    "test_dataloader = DataLoader(test_dataset, batch_size=32, shuffle=True)"
   ],
   "metadata": {
    "collapsed": false,
    "ExecuteTime": {
     "end_time": "2024-08-02T07:33:50.420359800Z",
     "start_time": "2024-08-02T07:33:50.418346600Z"
    }
   }
  },
  {
   "cell_type": "code",
   "execution_count": 15,
   "outputs": [
    {
     "name": "stdout",
     "output_type": "stream",
     "text": [
      "torch.Size([32, 3, 64, 64])\n",
      "torch.Size([32])\n"
     ]
    }
   ],
   "source": [
    "for image, label in train_dataloader:\n",
    "    print(image.shape)\n",
    "    print(label.shape)\n",
    "    break"
   ],
   "metadata": {
    "collapsed": false,
    "ExecuteTime": {
     "end_time": "2024-08-02T07:34:35.292903700Z",
     "start_time": "2024-08-02T07:34:34.953270800Z"
    }
   }
  },
  {
   "cell_type": "code",
   "execution_count": 11,
   "outputs": [],
   "source": [],
   "metadata": {
    "collapsed": false,
    "ExecuteTime": {
     "end_time": "2024-08-02T07:32:58.533757100Z",
     "start_time": "2024-08-02T07:32:58.501347200Z"
    }
   }
  }
 ],
 "metadata": {
  "kernelspec": {
   "display_name": "Python 3",
   "language": "python",
   "name": "python3"
  },
  "language_info": {
   "codemirror_mode": {
    "name": "ipython",
    "version": 2
   },
   "file_extension": ".py",
   "mimetype": "text/x-python",
   "name": "python",
   "nbconvert_exporter": "python",
   "pygments_lexer": "ipython2",
   "version": "2.7.6"
  }
 },
 "nbformat": 4,
 "nbformat_minor": 0
}
