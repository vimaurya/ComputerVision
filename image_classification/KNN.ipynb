{
 "cells": [
  {
   "cell_type": "code",
   "execution_count": 207,
   "metadata": {
    "collapsed": true,
    "ExecuteTime": {
     "end_time": "2024-08-25T14:39:17.520453200Z",
     "start_time": "2024-08-25T14:39:17.428970400Z"
    }
   },
   "outputs": [],
   "source": [
    "from torch.utils.data import Dataset, DataLoader\n",
    "import os\n",
    "from PIL import Image\n",
    "from torchvision import transforms\n",
    "import torch\n",
    "import numpy as np\n",
    "from collections import Counter"
   ]
  },
  {
   "cell_type": "code",
   "execution_count": 208,
   "outputs": [],
   "source": [
    "class ImageDataset(Dataset):\n",
    "    def __init__(self, folder, transform=None):\n",
    "        self.folder = folder\n",
    "        self.transform = transform\n",
    "        self.labels = []\n",
    "        self.image_paths = []\n",
    "        self.label_map = {'Cat':0, 'Dog':1}\n",
    "\n",
    "        for label in ['Cat', 'Dog']:\n",
    "            label_path = os.path.join(folder, label)\n",
    "            for img in os.listdir(label_path):\n",
    "                if img is not None:\n",
    "                    self.image_paths.append(os.path.join(label_path, img))\n",
    "                    self.labels.append(self.label_map[label])\n",
    "\n",
    "    def __len__(self):\n",
    "        return len(self.image_paths)\n",
    "\n",
    "    def __getitem__(self, index):\n",
    "        image = self.image_paths[index]\n",
    "        image = Image.open(image)\n",
    "        label = self.labels[index]\n",
    "\n",
    "        if self.transform:\n",
    "            image = self.transform(image)\n",
    "\n",
    "        return image, label"
   ],
   "metadata": {
    "collapsed": false,
    "ExecuteTime": {
     "end_time": "2024-08-25T14:39:17.531977400Z",
     "start_time": "2024-08-25T14:39:17.449232100Z"
    }
   }
  },
  {
   "cell_type": "code",
   "execution_count": 209,
   "outputs": [],
   "source": [
    "train = \"C://large_files//DogCat//TestTrainSplit//train\"\n",
    "test = \"C://large_files//DogCat//TestTrainSplit//test\"\n",
    "\n",
    "img_size = (224, 224)\n",
    "\n",
    "transform = transforms.Compose([\n",
    "    transforms.Resize(img_size),\n",
    "    transforms.ToTensor(),\n",
    "    transforms.Normalize([0.485, 0.456, 0.406], [0.229, 0.224, 0.225])\n",
    "])\n",
    "\n",
    "\n",
    "train_dataset = ImageDataset(train, transform)\n",
    "test_dataset = ImageDataset(test, transform)"
   ],
   "metadata": {
    "collapsed": false,
    "ExecuteTime": {
     "end_time": "2024-08-25T14:39:17.531977400Z",
     "start_time": "2024-08-25T14:39:17.474543700Z"
    }
   }
  },
  {
   "cell_type": "code",
   "execution_count": 210,
   "outputs": [
    {
     "data": {
      "text/plain": "(torch.Size([3, 224, 224]), 1)"
     },
     "execution_count": 210,
     "metadata": {},
     "output_type": "execute_result"
    }
   ],
   "source": [
    "image, label = train_dataset.__getitem__(600)\n",
    "\n",
    "image.shape, label"
   ],
   "metadata": {
    "collapsed": false,
    "ExecuteTime": {
     "end_time": "2024-08-25T14:39:17.629545200Z",
     "start_time": "2024-08-25T14:39:17.521454200Z"
    }
   }
  },
  {
   "cell_type": "code",
   "execution_count": 211,
   "outputs": [],
   "source": [
    "train_dataloader = DataLoader(train_dataset, batch_size=32, shuffle=True)\n",
    "test_dataloader = DataLoader(test_dataset, batch_size=32, shuffle=True)"
   ],
   "metadata": {
    "collapsed": false,
    "ExecuteTime": {
     "end_time": "2024-08-25T14:39:17.646854500Z",
     "start_time": "2024-08-25T14:39:17.563284Z"
    }
   }
  },
  {
   "cell_type": "code",
   "execution_count": 212,
   "outputs": [
    {
     "name": "stdout",
     "output_type": "stream",
     "text": [
      "torch.Size([32, 3, 224, 224])\n",
      "torch.Size([32])\n"
     ]
    }
   ],
   "source": [
    "for image, label in train_dataloader:\n",
    "    print(image.shape)\n",
    "    print(label.shape)\n",
    "    break"
   ],
   "metadata": {
    "collapsed": false,
    "ExecuteTime": {
     "end_time": "2024-08-25T14:39:18.156193200Z",
     "start_time": "2024-08-25T14:39:17.591803800Z"
    }
   }
  },
  {
   "cell_type": "code",
   "execution_count": 213,
   "outputs": [
    {
     "name": "stdout",
     "output_type": "stream",
     "text": [
      "torch.Size([32, 3, 224, 224])\n",
      "torch.Size([3, 224, 224])\n"
     ]
    }
   ],
   "source": [
    "for data, _ in test_dataloader:\n",
    "    print(data.shape)\n",
    "    for x in data:\n",
    "        print(x.shape)\n",
    "        break\n",
    "    break"
   ],
   "metadata": {
    "collapsed": false,
    "ExecuteTime": {
     "end_time": "2024-08-25T14:39:18.645947500Z",
     "start_time": "2024-08-25T14:39:18.161195Z"
    }
   }
  },
  {
   "cell_type": "code",
   "execution_count": 214,
   "outputs": [],
   "source": [
    "class KNN:\n",
    "    def __init__(self, k=3):\n",
    "        self.train_labels = None\n",
    "        self.train_imgs = None\n",
    "        self.k = k\n",
    "        \n",
    "    def train(self, train_dataloader):\n",
    "        self.train_imgs = []\n",
    "        self.train_labels = []\n",
    "\n",
    "        for imgs, labels in train_dataloader:\n",
    "            self.train_imgs.append(imgs)\n",
    "            self.train_labels.append(labels)\n",
    "\n",
    "        self.train_imgs = torch.cat(self.train_imgs)\n",
    "        self.train_labels = torch.cat(self.train_labels)\n",
    "\n",
    "        self.train_imgs = self.train_imgs.view(self.train_imgs.size(0), -1)\n",
    "        print(\"Done with train.\")\n",
    "\n",
    "    def predict(self, test_dataloader):\n",
    "        predictions = []\n",
    "        actual_labels = []\n",
    "        for imgs, labels in test_dataloader:\n",
    "            imgs = imgs.view(imgs.size(0), -1)\n",
    "            for img in imgs:\n",
    "                predictions.append(self._predict(img))\n",
    "            actual_labels.extend(labels)\n",
    "\n",
    "        return np.array(predictions), np.array(actual_labels)\n",
    "\n",
    "    def _predict(self, img):\n",
    "        distances = torch.sqrt(torch.sum((self.train_imgs - img) ** 2, dim=1))\n",
    "\n",
    "        k_indices = distances.argsort()[:self.k]\n",
    "\n",
    "        k_nearest_labels = [self.train_labels[i].item() for i in k_indices]\n",
    "\n",
    "        most_common = Counter(k_nearest_labels).most_common(1)\n",
    "\n",
    "        return most_common[0][0]\n",
    "\n"
   ],
   "metadata": {
    "collapsed": false,
    "ExecuteTime": {
     "end_time": "2024-08-25T14:39:18.699936300Z",
     "start_time": "2024-08-25T14:39:18.645947500Z"
    }
   }
  },
  {
   "cell_type": "code",
   "execution_count": 219,
   "outputs": [
    {
     "name": "stdout",
     "output_type": "stream",
     "text": [
      "Cross-Validation Scores: [0.535 0.51  0.505 0.56  0.575]\n",
      "Mean Accuracy: 0.5369999999999999\n"
     ]
    }
   ],
   "source": [
    "from sklearn.model_selection import cross_val_score, KFold\n",
    "from sklearn.neighbors import KNeighborsClassifier\n",
    "from torchvision import datasets\n",
    "from torch.utils.data import DataLoader\n",
    "import numpy as np\n",
    "\n",
    "data_dir = \"C://large_files//DogCat//noSplit\"\n",
    "dataset = datasets.ImageFolder(data_dir, transform=transform)\n",
    "\n",
    "dataloader = DataLoader(dataset, batch_size=1000, shuffle=True)\n",
    "\n",
    "features, labels = None, None\n",
    "\n",
    "for images, labls in dataloader:\n",
    "    features = images.view(images.size(0), -1)\n",
    "    labels = labls\n",
    "    break\n",
    "\n",
    "features = np.array(features)\n",
    "labels = np.array(labels)\n",
    "\n",
    "knn = KNeighborsClassifier(n_neighbors=3)\n",
    "\n",
    "kfold = KFold(n_splits=5, shuffle=True, random_state=42)\n",
    "\n",
    "cv_scores = cross_val_score(knn, features, labels, cv=kfold)\n",
    "\n",
    "print(f\"Cross-Validation Scores: {cv_scores}\")\n",
    "print(f\"Mean Accuracy: {np.mean(cv_scores)}\")"
   ],
   "metadata": {
    "collapsed": false,
    "ExecuteTime": {
     "end_time": "2024-08-25T14:46:26.598729Z",
     "start_time": "2024-08-25T14:45:07.117543800Z"
    }
   }
  },
  {
   "cell_type": "code",
   "execution_count": 220,
   "outputs": [
    {
     "name": "stdout",
     "output_type": "stream",
     "text": [
      "Training Accuracy: 0.768\n"
     ]
    }
   ],
   "source": [
    "knn.fit(features, labels)\n",
    "\n",
    "predictions = knn.predict(features)\n",
    "\n",
    "accuracy = np.mean(predictions == labels)\n",
    "print(f\"Training Accuracy: {accuracy}\")"
   ],
   "metadata": {
    "collapsed": false,
    "ExecuteTime": {
     "end_time": "2024-08-25T14:46:47.045449500Z",
     "start_time": "2024-08-25T14:46:32.932229800Z"
    }
   }
  },
  {
   "cell_type": "code",
   "execution_count": 216,
   "outputs": [],
   "source": [
    "def calculate_accuracy(predictions, labels):\n",
    "    correct = np.sum(predictions == labels)\n",
    "    total = len(labels)\n",
    "    accuracy = correct / total\n",
    "    return accuracy"
   ],
   "metadata": {
    "collapsed": false,
    "ExecuteTime": {
     "end_time": "2024-08-25T14:40:15.619754300Z",
     "start_time": "2024-08-25T14:40:14.584832100Z"
    }
   }
  },
  {
   "cell_type": "code",
   "execution_count": 217,
   "outputs": [
    {
     "name": "stdout",
     "output_type": "stream",
     "text": [
      "Done with train.\n",
      "Accuracy is 0.545\n"
     ]
    }
   ],
   "source": [
    "knn = KNN(k=5)\n",
    "knn.train(train_dataloader)\n",
    "predictions, actual_labels = knn.predict(test_dataloader)\n",
    "\n",
    "print(f\"Accuracy is {calculate_accuracy(predictions, actual_labels)}\")"
   ],
   "metadata": {
    "collapsed": false,
    "ExecuteTime": {
     "end_time": "2024-08-25T14:41:14.835212400Z",
     "start_time": "2024-08-25T14:40:14.669181700Z"
    }
   }
  }
 ],
 "metadata": {
  "kernelspec": {
   "display_name": "Python 3",
   "language": "python",
   "name": "python3"
  },
  "language_info": {
   "codemirror_mode": {
    "name": "ipython",
    "version": 2
   },
   "file_extension": ".py",
   "mimetype": "text/x-python",
   "name": "python",
   "nbconvert_exporter": "python",
   "pygments_lexer": "ipython2",
   "version": "2.7.6"
  }
 },
 "nbformat": 4,
 "nbformat_minor": 0
}
