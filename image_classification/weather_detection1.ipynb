{
 "cells": [
  {
   "cell_type": "code",
   "execution_count": 1,
   "metadata": {
    "collapsed": true,
    "ExecuteTime": {
     "end_time": "2024-06-12T07:13:09.418701Z",
     "start_time": "2024-06-12T07:13:05.295369900Z"
    }
   },
   "outputs": [],
   "source": [
    "import torch\n",
    "from torch.utils.data import DataLoader\n",
    "from torchvision import datasets, transforms\n",
    "from torch import nn\n",
    "\n",
    "\n",
    "device = 'cuda' if torch.cuda.is_available() else 'cpu'"
   ]
  },
  {
   "cell_type": "code",
   "execution_count": 2,
   "outputs": [],
   "source": [
    "transform = transforms.Compose([\n",
    "    transforms.Resize((64, 64)),\n",
    "    transforms.ToTensor()\n",
    "])\n",
    "\n",
    "\n",
    "train_data_path = \"C:\\\\large_files\\\\data_weather\\\\train\"\n",
    "test_data_path = \"C:\\\\large_files\\\\data_weather\\\\val\"\n",
    "\n",
    "BATCH_SIZE = 16\n",
    "train_dataset = datasets.ImageFolder(root=train_data_path, transform=transform)\n",
    "\n",
    "test_dataset = datasets.ImageFolder(root=test_data_path, transform=transform)\n",
    "\n",
    "train_dataloader = DataLoader(dataset=train_dataset, batch_size=BATCH_SIZE, shuffle=True)\n",
    "\n",
    "test_dataloader = DataLoader(dataset=test_dataset, batch_size=BATCH_SIZE)"
   ],
   "metadata": {
    "collapsed": false,
    "ExecuteTime": {
     "end_time": "2024-06-12T07:13:09.450849600Z",
     "start_time": "2024-06-12T07:13:09.417704100Z"
    }
   }
  },
  {
   "cell_type": "code",
   "execution_count": 3,
   "outputs": [],
   "source": [
    "class weatherClassificationModelv1(nn.Module):\n",
    "    def __init__(self):\n",
    "        super().__init__()\n",
    "        self.conv1 = nn.Conv2d(in_channels=3, out_channels=16, kernel_size=2, padding=1)\n",
    "        self.conv2 = nn.Conv2d(in_channels=16, out_channels=32, kernel_size = 2, padding = 1)\n",
    "        self.pool = nn.MaxPool2d(kernel_size=2, stride=2, padding=0)\n",
    "        self.fc1 = nn.Linear(in_features=32*16*16, out_features=128)\n",
    "        self.fc2 = nn.Linear(in_features=128, out_features=4)\n",
    "        self.relu = nn.ReLU()\n",
    "\n",
    "    def forward(self, x : torch.tensor) -> torch.Tensor:\n",
    "        x = self.pool(self.relu(self.conv1(x)))\n",
    "        x = self.pool(self.relu(self.conv2(x)))\n",
    "        x = x.view(-1, 32*16*16)\n",
    "        x = self.relu(self.fc1(x))\n",
    "        x = self.fc2(x)\n",
    "        return x\n"
   ],
   "metadata": {
    "collapsed": false,
    "ExecuteTime": {
     "end_time": "2024-06-12T07:13:09.464195900Z",
     "start_time": "2024-06-12T07:13:09.456204800Z"
    }
   }
  },
  {
   "cell_type": "code",
   "execution_count": 4,
   "outputs": [],
   "source": [
    "modelv1 = weatherClassificationModelv1()\n",
    "\n",
    "loss_fn = nn.CrossEntropyLoss()\n",
    "optimizer = torch.optim.Adam(modelv1.parameters(), lr=0.001)"
   ],
   "metadata": {
    "collapsed": false,
    "ExecuteTime": {
     "end_time": "2024-06-12T07:13:09.494774300Z",
     "start_time": "2024-06-12T07:13:09.466193600Z"
    }
   }
  },
  {
   "cell_type": "code",
   "execution_count": 5,
   "outputs": [
    {
     "name": "stdout",
     "output_type": "stream",
     "text": [
      "Epoch : 1\n",
      "Looked at 16/907 samples.\n",
      "Looked at 864/907 samples.\n",
      "Train loss : 0.8455, train acc : 64.872406%\n",
      "Test loss : 0.580, test acc : 80.09%\n",
      "Epoch : 2\n",
      "Looked at 16/907 samples.\n",
      "Looked at 864/907 samples.\n",
      "Train loss : 0.5096, train acc : 81.688599%\n",
      "Test loss : 0.595, test acc : 81.70%\n",
      "Epoch : 3\n",
      "Looked at 16/907 samples.\n",
      "Looked at 864/907 samples.\n",
      "Train loss : 0.4356, train acc : 82.157097%\n",
      "Test loss : 0.463, test acc : 87.05%\n",
      "Epoch : 4\n",
      "Looked at 16/907 samples.\n",
      "Looked at 864/907 samples.\n",
      "Train loss : 0.3616, train acc : 86.244019%\n",
      "Test loss : 0.432, test acc : 87.05%\n",
      "Epoch : 5\n",
      "Looked at 16/907 samples.\n",
      "Looked at 864/907 samples.\n",
      "Train loss : 0.3580, train acc : 85.147530%\n",
      "Test loss : 0.445, test acc : 86.16%\n",
      "Epoch : 6\n",
      "Looked at 16/907 samples.\n",
      "Looked at 864/907 samples.\n",
      "Train loss : 0.3214, train acc : 87.948570%\n",
      "Test loss : 0.341, test acc : 89.29%\n",
      "Epoch : 7\n",
      "Looked at 16/907 samples.\n",
      "Looked at 864/907 samples.\n",
      "Train loss : 0.2802, train acc : 89.154709%\n",
      "Test loss : 0.447, test acc : 85.27%\n",
      "Epoch : 8\n",
      "Looked at 16/907 samples.\n",
      "Looked at 864/907 samples.\n",
      "Train loss : 0.2574, train acc : 90.410690%\n",
      "Test loss : 0.416, test acc : 89.29%\n",
      "Epoch : 9\n",
      "Looked at 16/907 samples.\n",
      "Looked at 864/907 samples.\n",
      "Train loss : 0.2279, train acc : 90.849281%\n",
      "Test loss : 0.392, test acc : 87.95%\n",
      "Epoch : 10\n",
      "Looked at 16/907 samples.\n",
      "Looked at 864/907 samples.\n",
      "Train loss : 0.1958, train acc : 92.274719%\n",
      "Test loss : 0.412, test acc : 88.39%\n",
      "Epoch : 11\n",
      "Looked at 16/907 samples.\n",
      "Looked at 864/907 samples.\n",
      "Train loss : 0.1780, train acc : 93.161880%\n",
      "Test loss : 0.383, test acc : 88.84%\n",
      "Epoch : 12\n",
      "Looked at 16/907 samples.\n",
      "Looked at 864/907 samples.\n",
      "Train loss : 0.1642, train acc : 93.211723%\n",
      "Test loss : 0.401, test acc : 89.73%\n",
      "Epoch : 13\n",
      "Looked at 16/907 samples.\n",
      "Looked at 864/907 samples.\n",
      "Train loss : 0.1336, train acc : 95.614037%\n",
      "Test loss : 0.386, test acc : 87.50%\n",
      "Epoch : 14\n",
      "Looked at 16/907 samples.\n",
      "Looked at 864/907 samples.\n",
      "Train loss : 0.1609, train acc : 93.480865%\n",
      "Test loss : 0.511, test acc : 84.38%\n",
      "Epoch : 15\n",
      "Looked at 16/907 samples.\n",
      "Looked at 864/907 samples.\n",
      "Train loss : 0.1478, train acc : 94.796654%\n",
      "Test loss : 0.441, test acc : 86.61%\n",
      "Epoch : 16\n",
      "Looked at 16/907 samples.\n",
      "Looked at 864/907 samples.\n",
      "Train loss : 0.1124, train acc : 96.600876%\n",
      "Test loss : 0.429, test acc : 87.50%\n",
      "Epoch : 17\n",
      "Looked at 16/907 samples.\n",
      "Looked at 864/907 samples.\n",
      "Train loss : 0.0960, train acc : 96.879982%\n",
      "Test loss : 0.402, test acc : 88.84%\n",
      "Epoch : 18\n",
      "Looked at 16/907 samples.\n",
      "Looked at 864/907 samples.\n",
      "Train loss : 0.0770, train acc : 97.807014%\n",
      "Test loss : 0.470, test acc : 87.95%\n",
      "Epoch : 19\n",
      "Looked at 16/907 samples.\n",
      "Looked at 864/907 samples.\n",
      "Train loss : 0.0662, train acc : 98.355263%\n",
      "Test loss : 0.456, test acc : 88.39%\n",
      "Epoch : 20\n",
      "Looked at 16/907 samples.\n",
      "Looked at 864/907 samples.\n",
      "Train loss : 0.0590, train acc : 98.245613%\n",
      "Test loss : 0.449, test acc : 87.95%\n"
     ]
    }
   ],
   "source": [
    "from helper_functions import train, test\n",
    "from helper_functions import accuracy_function\n",
    "\n",
    "epochs = 20\n",
    "\n",
    "for i in range(epochs):\n",
    "\n",
    "    print(f\"Epoch : {i+1}\")\n",
    "\n",
    "    train(model=modelv1, data_loader=train_dataloader, optimizer=optimizer, loss_fn=loss_fn, accuracy_function=accuracy_function, device=device)\n",
    "    test(model=modelv1, data_loader=test_dataloader, loss_fn=loss_fn, accuracy_function=accuracy_function, device = device)"
   ],
   "metadata": {
    "collapsed": false,
    "ExecuteTime": {
     "end_time": "2024-06-12T07:15:41.046130Z",
     "start_time": "2024-06-12T07:13:09.495774600Z"
    }
   }
  },
  {
   "cell_type": "code",
   "execution_count": 6,
   "outputs": [
    {
     "name": "stdout",
     "output_type": "stream",
     "text": [
      "weather_classification_modelv1.pth\n",
      "../models\\weather_classification_modelv1.pth\n"
     ]
    }
   ],
   "source": [
    "from helper_functions import save_model\n",
    "\n",
    "save_model(modelSave=modelv1, model_name='weather_classification_model', version=1)"
   ],
   "metadata": {
    "collapsed": false,
    "ExecuteTime": {
     "end_time": "2024-06-12T07:15:41.131686500Z",
     "start_time": "2024-06-12T07:15:41.063975800Z"
    }
   }
  }
 ],
 "metadata": {
  "kernelspec": {
   "display_name": "Python 3",
   "language": "python",
   "name": "python3"
  },
  "language_info": {
   "codemirror_mode": {
    "name": "ipython",
    "version": 2
   },
   "file_extension": ".py",
   "mimetype": "text/x-python",
   "name": "python",
   "nbconvert_exporter": "python",
   "pygments_lexer": "ipython2",
   "version": "2.7.6"
  }
 },
 "nbformat": 4,
 "nbformat_minor": 0
}
