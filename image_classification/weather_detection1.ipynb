{
 "cells": [
  {
   "cell_type": "code",
   "execution_count": 7,
   "metadata": {
    "collapsed": true,
    "ExecuteTime": {
     "end_time": "2024-06-12T14:03:37.025429300Z",
     "start_time": "2024-06-12T14:03:36.998642300Z"
    }
   },
   "outputs": [],
   "source": [
    "import torch\n",
    "from torch.utils.data import DataLoader\n",
    "from torchvision import datasets, transforms\n",
    "from torch import nn\n",
    "\n",
    "\n",
    "device = 'cuda' if torch.cuda.is_available() else 'cpu'"
   ]
  },
  {
   "cell_type": "code",
   "execution_count": 8,
   "outputs": [],
   "source": [
    "transform = transforms.Compose([\n",
    "    transforms.Resize((64, 64)),\n",
    "    transforms.ToTensor()\n",
    "])\n",
    "\n",
    "\n",
    "train_data_path = \"C:\\\\large_files\\\\data_weather\\\\train\"\n",
    "test_data_path = \"C:\\\\large_files\\\\data_weather\\\\val\"\n",
    "\n",
    "BATCH_SIZE = 16\n",
    "train_dataset = datasets.ImageFolder(root=train_data_path, transform=transform)\n",
    "\n",
    "test_dataset = datasets.ImageFolder(root=test_data_path, transform=transform)\n",
    "\n",
    "train_dataloader = DataLoader(dataset=train_dataset, batch_size=BATCH_SIZE, shuffle=True)\n",
    "\n",
    "test_dataloader = DataLoader(dataset=test_dataset, batch_size=BATCH_SIZE)"
   ],
   "metadata": {
    "collapsed": false,
    "ExecuteTime": {
     "end_time": "2024-06-12T14:03:37.151087700Z",
     "start_time": "2024-06-12T14:03:37.027447200Z"
    }
   }
  },
  {
   "cell_type": "code",
   "execution_count": null,
   "outputs": [],
   "source": [
    "class weatherClassificationModelv1(nn.Module):\n",
    "    def __init__(self):\n",
    "        super().__init__()\n",
    "        self.conv1 = nn.Conv2d(in_channels=3, out_channels=16, kernel_size=2, padding=1)\n",
    "        self.conv2 = nn.Conv2d(in_channels=16, out_channels=32, kernel_size = 2, padding = 1)\n",
    "        self.pool = nn.MaxPool2d(kernel_size=2, stride=2, padding=0)\n",
    "        self.fc1 = nn.Linear(in_features=32*16*16, out_features=128)\n",
    "        self.fc2 = nn.Linear(in_features=128, out_features=4)\n",
    "        self.relu = nn.ReLU()\n",
    "\n",
    "    def forward(self, x : torch.tensor) -> torch.Tensor:\n",
    "        x = self.pool(self.relu(self.conv1(x)))\n",
    "        x = self.pool(self.relu(self.conv2(x)))\n",
    "        x = x.view(-1, 32*16*16)\n",
    "        x = self.relu(self.fc1(x))\n",
    "        x = self.fc2(x)\n",
    "        return x"
   ],
   "metadata": {
    "collapsed": false
   }
  },
  {
   "cell_type": "code",
   "execution_count": 12,
   "outputs": [],
   "source": [
    "class weatherClassificationModelv2(nn.Module):\n",
    "    def __init__(self):\n",
    "        super().__init__()\n",
    "        self.conv1 = nn.Conv2d(in_channels=3, out_channels=32, kernel_size=2, padding=1)\n",
    "        self.conv2 = nn.Conv2d(in_channels=32, out_channels=64, kernel_size = 2, padding = 1)\n",
    "        self.pool = nn.MaxPool2d(kernel_size=2, stride=2, padding=0)\n",
    "        self.fc1 = nn.Linear(in_features=64*16*16, out_features=128)\n",
    "        self.fc2 = nn.Linear(in_features=128, out_features=4)\n",
    "        self.relu = nn.ReLU()\n",
    "\n",
    "    def forward(self, x : torch.tensor) -> torch.Tensor:\n",
    "        x = self.pool(self.relu(self.conv1(x)))\n",
    "        x = self.pool(self.relu(self.conv2(x)))\n",
    "        x = x.view(-1, 64*16*16)\n",
    "        x = self.relu(self.fc1(x))\n",
    "        x = self.fc2(x)\n",
    "        return x\n"
   ],
   "metadata": {
    "collapsed": false,
    "ExecuteTime": {
     "end_time": "2024-06-12T14:04:44.896045700Z",
     "start_time": "2024-06-12T14:04:44.882295300Z"
    }
   }
  },
  {
   "cell_type": "code",
   "execution_count": null,
   "outputs": [],
   "source": [
    "modelv1 = weatherClassificationModelv1()\n",
    "\n",
    "loss_fn = nn.CrossEntropyLoss()\n",
    "optimizer = torch.optim.Adam(modelv1.parameters(), lr=0.001)"
   ],
   "metadata": {
    "collapsed": false
   }
  },
  {
   "cell_type": "code",
   "execution_count": 13,
   "outputs": [],
   "source": [
    "modelv2 = weatherClassificationModelv2()"
   ],
   "metadata": {
    "collapsed": false,
    "ExecuteTime": {
     "end_time": "2024-06-12T14:04:46.846290300Z",
     "start_time": "2024-06-12T14:04:46.817553400Z"
    }
   }
  },
  {
   "cell_type": "code",
   "execution_count": 14,
   "outputs": [
    {
     "name": "stdout",
     "output_type": "stream",
     "text": [
      "Epoch : 1\n",
      "Looked at 16/907 samples.\n",
      "Looked at 864/907 samples.\n",
      "Train loss : 0.7329, train acc : 68.480865%\n",
      "Test loss : 0.517, test acc : 84.55%\n",
      "Epoch : 2\n",
      "Looked at 16/907 samples.\n",
      "Looked at 864/907 samples.\n",
      "Train loss : 0.4409, train acc : 82.017548%\n",
      "Test loss : 0.425, test acc : 86.61%\n",
      "Epoch : 3\n",
      "Looked at 16/907 samples.\n",
      "Looked at 864/907 samples.\n",
      "Train loss : 0.3962, train acc : 85.695778%\n",
      "Test loss : 0.427, test acc : 87.50%\n",
      "Epoch : 4\n",
      "Looked at 16/907 samples.\n",
      "Looked at 864/907 samples.\n",
      "Train loss : 0.3393, train acc : 87.071373%\n",
      "Test loss : 0.370, test acc : 86.61%\n",
      "Epoch : 5\n",
      "Looked at 16/907 samples.\n",
      "Looked at 864/907 samples.\n",
      "Train loss : 0.2679, train acc : 89.643143%\n",
      "Test loss : 0.505, test acc : 84.38%\n",
      "Epoch : 6\n",
      "Looked at 16/907 samples.\n",
      "Looked at 864/907 samples.\n",
      "Train loss : 0.2416, train acc : 89.423843%\n",
      "Test loss : 0.314, test acc : 89.29%\n",
      "Epoch : 7\n",
      "Looked at 16/907 samples.\n",
      "Looked at 864/907 samples.\n",
      "Train loss : 0.2018, train acc : 91.407494%\n",
      "Test loss : 0.340, test acc : 88.39%\n",
      "Epoch : 8\n",
      "Looked at 16/907 samples.\n",
      "Looked at 864/907 samples.\n",
      "Train loss : 0.1430, train acc : 94.407898%\n",
      "Test loss : 0.379, test acc : 87.05%\n",
      "Epoch : 9\n",
      "Looked at 16/907 samples.\n",
      "Looked at 864/907 samples.\n",
      "Train loss : 0.1231, train acc : 95.285088%\n",
      "Test loss : 0.412, test acc : 89.73%\n",
      "Epoch : 10\n",
      "Looked at 16/907 samples.\n",
      "Looked at 864/907 samples.\n",
      "Train loss : 0.1290, train acc : 95.285088%\n",
      "Test loss : 0.645, test acc : 83.04%\n",
      "Epoch : 11\n",
      "Looked at 16/907 samples.\n",
      "Looked at 864/907 samples.\n",
      "Train loss : 0.1234, train acc : 94.627190%\n",
      "Test loss : 0.385, test acc : 88.84%\n",
      "Epoch : 12\n",
      "Looked at 16/907 samples.\n",
      "Looked at 864/907 samples.\n",
      "Train loss : 0.0736, train acc : 97.478073%\n",
      "Test loss : 0.522, test acc : 85.27%\n",
      "Epoch : 13\n",
      "Looked at 16/907 samples.\n",
      "Looked at 864/907 samples.\n",
      "Train loss : 0.0631, train acc : 98.135963%\n",
      "Test loss : 0.513, test acc : 86.16%\n",
      "Epoch : 14\n",
      "Looked at 16/907 samples.\n",
      "Looked at 864/907 samples.\n",
      "Train loss : 0.0408, train acc : 98.464912%\n",
      "Test loss : 0.444, test acc : 89.29%\n",
      "Epoch : 15\n",
      "Looked at 16/907 samples.\n",
      "Looked at 864/907 samples.\n",
      "Train loss : 0.0415, train acc : 98.793861%\n",
      "Test loss : 0.416, test acc : 90.18%\n",
      "Epoch : 16\n",
      "Looked at 16/907 samples.\n",
      "Looked at 864/907 samples.\n",
      "Train loss : 0.0289, train acc : 99.342102%\n",
      "Test loss : 0.444, test acc : 90.62%\n",
      "Epoch : 17\n",
      "Looked at 16/907 samples.\n",
      "Looked at 864/907 samples.\n",
      "Train loss : 0.0183, train acc : 99.671051%\n",
      "Test loss : 0.467, test acc : 91.52%\n",
      "Epoch : 18\n",
      "Looked at 16/907 samples.\n",
      "Looked at 864/907 samples.\n",
      "Train loss : 0.0123, train acc : 99.561401%\n",
      "Test loss : 0.482, test acc : 90.18%\n",
      "Epoch : 19\n",
      "Looked at 16/907 samples.\n",
      "Looked at 864/907 samples.\n",
      "Train loss : 0.0094, train acc : 99.890350%\n",
      "Test loss : 0.658, test acc : 87.50%\n",
      "Epoch : 20\n",
      "Looked at 16/907 samples.\n",
      "Looked at 864/907 samples.\n",
      "Train loss : 0.0150, train acc : 99.451752%\n",
      "Test loss : 0.504, test acc : 91.07%\n"
     ]
    }
   ],
   "source": [
    "from helper_functions import train, test\n",
    "from helper_functions import accuracy_function\n",
    "\n",
    "epochs = 20\n",
    "\n",
    "for i in range(epochs):\n",
    "\n",
    "    print(f\"Epoch : {i+1}\")\n",
    "\n",
    "    train(model=modelv2, data_loader=train_dataloader, optimizer=optimizer, loss_fn=loss_fn, accuracy_function=accuracy_function, device=device)\n",
    "    test(model=modelv2, data_loader=test_dataloader, loss_fn=loss_fn, accuracy_function=accuracy_function, device = device)"
   ],
   "metadata": {
    "collapsed": false,
    "ExecuteTime": {
     "end_time": "2024-06-12T14:07:40.532014100Z",
     "start_time": "2024-06-12T14:04:49.989799200Z"
    }
   }
  },
  {
   "cell_type": "code",
   "execution_count": 15,
   "outputs": [
    {
     "name": "stdout",
     "output_type": "stream",
     "text": [
      "weather_classification_modelv2.pth\n",
      "../models\\weather_classification_modelv2.pth\n"
     ]
    }
   ],
   "source": [
    "from helper_functions import save_model\n",
    "\n",
    "save_model(modelSave=modelv1, model_name='weather_classification_model', version=2)"
   ],
   "metadata": {
    "collapsed": false,
    "ExecuteTime": {
     "end_time": "2024-06-12T14:07:51.763074100Z",
     "start_time": "2024-06-12T14:07:51.731135600Z"
    }
   }
  }
 ],
 "metadata": {
  "kernelspec": {
   "display_name": "Python 3",
   "language": "python",
   "name": "python3"
  },
  "language_info": {
   "codemirror_mode": {
    "name": "ipython",
    "version": 2
   },
   "file_extension": ".py",
   "mimetype": "text/x-python",
   "name": "python",
   "nbconvert_exporter": "python",
   "pygments_lexer": "ipython2",
   "version": "2.7.6"
  }
 },
 "nbformat": 4,
 "nbformat_minor": 0
}
